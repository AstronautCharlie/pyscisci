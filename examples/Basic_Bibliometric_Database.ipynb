{
 "cells": [
  {
   "cell_type": "code",
   "execution_count": 1,
   "metadata": {},
   "outputs": [],
   "source": [
    "%load_ext autoreload\n",
    "%autoreload 1\n",
    "\n",
    "%aimport pyscisci\n",
    "import random"
   ]
  },
  {
   "cell_type": "code",
   "execution_count": 2,
   "metadata": {},
   "outputs": [
    {
     "name": "stdout",
     "output_type": "stream",
     "text": [
      "[2000, 2001, 2002, 2003, 2004, 2005, 2006, 2007, 2008, 2009]\n",
      "2000 2009\n",
      "10 publications and 3 authors\n"
     ]
    }
   ],
   "source": [
    "Npubs = 10\n",
    "Nauthors = 3\n",
    "\n",
    "database = pyscisci.BibDatabase()\n",
    "\n",
    "for pid in range(10):\n",
    "    pubdict = {'id':pid, 'year':2000+pid,\n",
    "               'title':'', \n",
    "               'authors':random.sample(list(range(Nauthors)), 2),\n",
    "               'references':list(range(pid+1)), \n",
    "               'citations':list(range(pid+1, Npubs))}\n",
    "    database.add_pub(pyscisci.Publication(database).from_dict(pubdict))\n",
    "    \n",
    "for aid in range(Nauthors):\n",
    "    authordict = {'id':aid, 'fullname':'Example Author{}'.format(aid),\n",
    "                 'publications':[pid for pid in database.publication_ids if aid in database.get_pub(pid).authors]}\n",
    "    database.add_author(pyscisci.Author(database).from_dict(authordict))\n",
    "    \n",
    "    \n",
    "print(database.publication_years)\n",
    "print(database.start_year, database.end_year)\n",
    "\n",
    "print(\"{0} publications and {1} authors\".format(database.n_publications, database.n_authors))"
   ]
  },
  {
   "cell_type": "code",
   "execution_count": 6,
   "metadata": {},
   "outputs": [
    {
     "name": "stdout",
     "output_type": "stream",
     "text": [
      "0 2000 4 9 9 -1.0\n",
      "[0]\n",
      "[1, 2, 3, 4, 5, 6, 7, 8, 9]\n",
      "{1, 2, 3, 4, 5, 6, 7, 8, 9}\n",
      "\n",
      "1 2001 4 8 8 -0.8888888888888888\n",
      "[0, 1]\n",
      "[2, 3, 4, 5, 6, 7, 8, 9]\n",
      "{0, 2, 3, 4, 5, 6, 7, 8, 9}\n",
      "\n",
      "2 2002 4 7 7 -0.875\n",
      "[0, 1, 2]\n",
      "[3, 4, 5, 6, 7, 8, 9]\n",
      "{0, 1, 3, 4, 5, 6, 7, 8, 9}\n",
      "\n",
      "3 2003 4 6 6 -0.8571428571428571\n",
      "[0, 1, 2, 3]\n",
      "[4, 5, 6, 7, 8, 9]\n",
      "{0, 1, 2, 4, 5, 6, 7, 8, 9}\n",
      "\n",
      "4 2004 4 5 5 -0.8333333333333334\n",
      "[0, 1, 2, 3, 4]\n",
      "[5, 6, 7, 8, 9]\n",
      "{0, 1, 2, 3, 5, 6, 7, 8, 9}\n",
      "\n",
      "5 2005 4 4 4 -0.8\n",
      "[0, 1, 2, 3, 4, 5]\n",
      "[6, 7, 8, 9]\n",
      "{0, 1, 2, 3, 4, 6, 7, 8, 9}\n",
      "\n",
      "6 2006 3 3 3 -0.75\n",
      "[0, 1, 2, 3, 4, 5, 6]\n",
      "[7, 8, 9]\n",
      "{0, 1, 2, 3, 4, 5, 7, 8, 9}\n",
      "\n",
      "7 2007 2 2 2 -0.6666666666666666\n",
      "[0, 1, 2, 3, 4, 5, 6, 7]\n",
      "[8, 9]\n",
      "{0, 1, 2, 3, 4, 5, 6, 8, 9}\n",
      "\n",
      "8 2008 1 1 1 -0.5\n",
      "[0, 1, 2, 3, 4, 5, 6, 7, 8]\n",
      "[9]\n",
      "{0, 1, 2, 3, 4, 5, 6, 7, 9}\n",
      "\n",
      "9 2009 0 0 0 0.0\n",
      "[0, 1, 2, 3, 4, 5, 6, 7, 8, 9]\n",
      "[]\n",
      "set()\n",
      "\n"
     ]
    }
   ],
   "source": [
    "for pid in range(Npubs):\n",
    "    pub = database.get_pub(pid)\n",
    "    print(pub.id, pub.year, pub.ck(4), pub.c10, pub.total_citations, pub.disruption_index)\n",
    "    print(pub.references)\n",
    "    print(pub.citations)\n",
    "    print(pub.cocited_publications)\n",
    "    print()"
   ]
  },
  {
   "cell_type": "code",
   "execution_count": 7,
   "metadata": {},
   "outputs": [
    {
     "name": "stdout",
     "output_type": "stream",
     "text": [
      "2000 2009\n",
      "10 8 0.8\n",
      "Total citations: 35, H-index: 4\n",
      "\n",
      "2003 2009\n",
      "7 4 0.5714285714285714\n",
      "Total citations: 11, H-index: 2\n",
      "\n",
      "2000 2007\n",
      "8 8 1.0\n",
      "Total citations: 44, H-index: 5\n",
      "\n",
      "{2000: 0.0, 2001: 1.0, 2002: 3.0, 2003: 6.0, 2004: 10.0, 2005: 15.0, 2006: 21.0, 2007: 28.0, 2008: 36.0, 2009: 44.0}\n",
      "[[2000, 9], [2001, 8], [2002, 7], [2003, 6], [2004, 5], [2005, 4], [2006, 3], [2007, 2]]\n"
     ]
    }
   ],
   "source": [
    "for aid in range(Nauthors):\n",
    "    author = database.get_author(aid)\n",
    "    print(author.start_year, author.end_year)\n",
    "    print(author.career_length, author.total_productivity, author.annual_productivity)\n",
    "    print(\"Total citations: {0}, H-index: {1}\".format(author.total_citations, author.hindex))\n",
    "    print()\n",
    "print(author.cummulative_yearly_citations)\n",
    "print(author.author_timeline)"
   ]
  },
  {
   "cell_type": "code",
   "execution_count": null,
   "metadata": {},
   "outputs": [],
   "source": []
  },
  {
   "cell_type": "code",
   "execution_count": null,
   "metadata": {},
   "outputs": [],
   "source": []
  }
 ],
 "metadata": {
  "kernelspec": {
   "display_name": "Python 3",
   "language": "python",
   "name": "python3"
  },
  "language_info": {
   "codemirror_mode": {
    "name": "ipython",
    "version": 3
   },
   "file_extension": ".py",
   "mimetype": "text/x-python",
   "name": "python",
   "nbconvert_exporter": "python",
   "pygments_lexer": "ipython3",
   "version": "3.7.7"
  }
 },
 "nbformat": 4,
 "nbformat_minor": 2
}

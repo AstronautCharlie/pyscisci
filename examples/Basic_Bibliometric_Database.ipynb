{
 "cells": [
  {
   "cell_type": "code",
   "execution_count": 1,
   "metadata": {},
   "outputs": [],
   "source": [
    "%load_ext autoreload\n",
    "%autoreload 1\n",
    "import pandas as pd\n",
    "\n",
    "%aimport pyscisci\n",
    "import random"
   ]
  },
  {
   "cell_type": "code",
   "execution_count": 2,
   "metadata": {},
   "outputs": [
    {
     "data": {
      "text/plain": [
       "<module 'pyscisci' from '/Users/ajgates/Documents/GitHub/pyscisci/pyscisci/__init__.py'>"
      ]
     },
     "execution_count": 2,
     "metadata": {},
     "output_type": "execute_result"
    }
   ],
   "source": [
    "pyscisci"
   ]
  },
  {
   "cell_type": "code",
   "execution_count": 3,
   "metadata": {},
   "outputs": [
    {
     "data": {
      "text/plain": [
       "<function pyscisci.analysis.groupby_range(df, colgroupby, colrange)>"
      ]
     },
     "execution_count": 3,
     "metadata": {},
     "output_type": "execute_result"
    }
   ],
   "source": [
    "pyscisci.analysis.groupby_range"
   ]
  },
  {
   "cell_type": "code",
   "execution_count": 4,
   "metadata": {},
   "outputs": [
    {
     "data": {
      "text/plain": [
       "Int64Index([3, 4], dtype='int64')"
      ]
     },
     "execution_count": 4,
     "metadata": {},
     "output_type": "execute_result"
    }
   ],
   "source": [
    "pub2ref = pd.DataFrame([[0,1], [0,2], [0,3],[1,4],[1,5], [2,5], [3,1], [10,1], [7,1]], \n",
    "                       columns = ['CitingPublicationId', 'CitedPublicationId'])\n",
    "\n",
    "reference_groups = pub2ref.groupby('CitingPublicationId', as_index = False, sort = False)['CitedPublicationId']\n",
    "citation_groups = pub2ref.groupby('CitedPublicationId', sort = False)['CitingPublicationId']\n",
    "\n",
    "    \n",
    "reference_groups.groups.get(1)"
   ]
  },
  {
   "cell_type": "code",
   "execution_count": 52,
   "metadata": {},
   "outputs": [
    {
     "data": {
      "text/plain": [
       "CitedPublicationId\n",
       "1    0.666667\n",
       "2    0.333333\n",
       "3   -0.250000\n",
       "4    1.000000\n",
       "5    1.000000\n",
       "Name: CitingPublicationId, dtype: float64"
      ]
     },
     "execution_count": 52,
     "metadata": {},
     "output_type": "execute_result"
    }
   ],
   "source": [
    "from functools import reduce\n",
    "\n",
    "def get_citation_groups(pid):\n",
    "    try:\n",
    "        return citation_groups.get_group(pid).values\n",
    "    except KeyError:\n",
    "        return []\n",
    "    \n",
    "def disruption_index(citing_focus):\n",
    "    focusid = citing_focus.name\n",
    "    \n",
    "    # if the focus publication has no references, then it has a disruption of 1.0\n",
    "    try:\n",
    "        focusref = reference_groups.get_group(focusid)\n",
    "    except KeyError:\n",
    "        return 1.0\n",
    "    \n",
    "    cite2ref = reduce(np.union1d, [get_citation_groups(refid) for refid in focusref.values])\n",
    "    \n",
    "    nj = np.intersect1d(cite2ref, citing_focus.values).shape[0]\n",
    "    ni = citing_focus.shape[0] - nj\n",
    "    nk = cite2ref.shape[0] - nj\n",
    "    return (ni - nj)/(ni + nj + nk)\n",
    "\n",
    "citation_groups.apply(disruption_index)"
   ]
  },
  {
   "cell_type": "code",
   "execution_count": 42,
   "metadata": {},
   "outputs": [],
   "source": [
    "import numpy as np\n",
    "\n",
    "anp = np.arange(1000)\n",
    "aset = set([i for i in range(1000)])\n",
    "bnp = np.arange(500, 5000)\n",
    "bset = set([i for i in range(500, 5000)])"
   ]
  },
  {
   "cell_type": "code",
   "execution_count": 39,
   "metadata": {},
   "outputs": [
    {
     "name": "stdout",
     "output_type": "stream",
     "text": [
      "137 µs ± 5.09 µs per loop (mean ± std. dev. of 7 runs, 10000 loops each)\n"
     ]
    }
   ],
   "source": [
    "%timeit np.intersect1d(anp, bnp)"
   ]
  },
  {
   "cell_type": "code",
   "execution_count": 43,
   "metadata": {},
   "outputs": [
    {
     "name": "stdout",
     "output_type": "stream",
     "text": [
      "20.5 µs ± 1.45 µs per loop (mean ± std. dev. of 7 runs, 10000 loops each)\n"
     ]
    }
   ],
   "source": [
    "%timeit aset & bset"
   ]
  },
  {
   "cell_type": "code",
   "execution_count": 45,
   "metadata": {},
   "outputs": [
    {
     "name": "stdout",
     "output_type": "stream",
     "text": [
      "146 µs ± 6.91 µs per loop (mean ± std. dev. of 7 runs, 10000 loops each)\n"
     ]
    }
   ],
   "source": [
    "%timeit np.isin(anp, bnp)"
   ]
  },
  {
   "cell_type": "code",
   "execution_count": 46,
   "metadata": {},
   "outputs": [
    {
     "name": "stdout",
     "output_type": "stream",
     "text": [
      "74.2 µs ± 1.72 µs per loop (mean ± std. dev. of 7 runs, 10000 loops each)\n"
     ]
    }
   ],
   "source": [
    "%timeit [a in bset for a in aset]"
   ]
  },
  {
   "cell_type": "code",
   "execution_count": 7,
   "metadata": {},
   "outputs": [
    {
     "name": "stdout",
     "output_type": "stream",
     "text": [
      "0 2000 4 9 9 -1.0\n",
      "references: [0] | citations: [1, 2, 3, 4, 5, 6, 7, 8, 9]\n",
      "{1, 2, 3, 4, 5, 6, 7, 8, 9}\n",
      "defaultdict(<class 'float'>, {2001: 2.0, 2002: 1.5, 2003: 1.3333333333333333, 2004: 1.25, 2005: 1.2, 2006: 1.1666666666666667, 2007: 1.1428571428571428, 2008: 1.125, 2009: 1.1111111111111112})\n",
      "\n",
      "1 2001 4 8 8 -0.8888888888888888\n",
      "references: [0, 1] | citations: [2, 3, 4, 5, 6, 7, 8, 9]\n",
      "{0, 2, 3, 4, 5, 6, 7, 8, 9}\n",
      "defaultdict(<class 'float'>, {2002: 1.5, 2003: 1.3333333333333333, 2004: 1.25, 2005: 1.2, 2006: 1.1666666666666667, 2007: 1.1428571428571428, 2008: 1.125, 2009: 1.1111111111111112})\n",
      "\n",
      "2 2002 4 7 7 -0.875\n",
      "references: [0, 1, 2] | citations: [3, 4, 5, 6, 7, 8, 9]\n",
      "{0, 1, 3, 4, 5, 6, 7, 8, 9}\n",
      "defaultdict(<class 'float'>, {2003: 1.3333333333333333, 2004: 1.25, 2005: 1.2, 2006: 1.1666666666666667, 2007: 1.1428571428571428, 2008: 1.125, 2009: 1.1111111111111112})\n",
      "\n",
      "3 2003 4 6 6 -0.8571428571428571\n",
      "references: [0, 1, 2, 3] | citations: [4, 5, 6, 7, 8, 9]\n",
      "{0, 1, 2, 4, 5, 6, 7, 8, 9}\n",
      "defaultdict(<class 'float'>, {2004: 1.25, 2005: 1.2, 2006: 1.1666666666666667, 2007: 1.1428571428571428, 2008: 1.125, 2009: 1.1111111111111112})\n",
      "\n",
      "4 2004 4 5 5 -0.8333333333333334\n",
      "references: [0, 1, 2, 3, 4] | citations: [5, 6, 7, 8, 9]\n",
      "{0, 1, 2, 3, 5, 6, 7, 8, 9}\n",
      "defaultdict(<class 'float'>, {2005: 1.2, 2006: 1.1666666666666667, 2007: 1.1428571428571428, 2008: 1.125, 2009: 1.1111111111111112})\n",
      "\n",
      "5 2005 4 4 4 -0.8\n",
      "references: [0, 1, 2, 3, 4, 5] | citations: [6, 7, 8, 9]\n",
      "{0, 1, 2, 3, 4, 6, 7, 8, 9}\n",
      "defaultdict(<class 'float'>, {2006: 1.1666666666666667, 2007: 1.1428571428571428, 2008: 1.125, 2009: 1.1111111111111112})\n",
      "\n",
      "6 2006 3 3 3 -0.75\n",
      "references: [0, 1, 2, 3, 4, 5, 6] | citations: [7, 8, 9]\n",
      "{0, 1, 2, 3, 4, 5, 7, 8, 9}\n",
      "defaultdict(<class 'float'>, {2007: 1.1428571428571428, 2008: 1.125, 2009: 1.1111111111111112})\n",
      "\n",
      "7 2007 2 2 2 -0.6666666666666666\n",
      "references: [0, 1, 2, 3, 4, 5, 6, 7] | citations: [8, 9]\n",
      "{0, 1, 2, 3, 4, 5, 6, 8, 9}\n",
      "defaultdict(<class 'float'>, {2008: 1.125, 2009: 1.1111111111111112})\n",
      "\n",
      "8 2008 1 1 1 -0.5\n",
      "references: [0, 1, 2, 3, 4, 5, 6, 7, 8] | citations: [9]\n",
      "{0, 1, 2, 3, 4, 5, 6, 7, 9}\n",
      "defaultdict(<class 'float'>, {2009: 1.1111111111111112})\n",
      "\n",
      "9 2009 0 0 0 0.0\n",
      "references: [0, 1, 2, 3, 4, 5, 6, 7, 8, 9] | citations: []\n",
      "set()\n",
      "defaultdict(<class 'float'>, {})\n",
      "\n"
     ]
    }
   ],
   "source": [
    "for pid in range(Npubs):\n",
    "    pub = database.get_pub(pid)\n",
    "    print(pub.id, pub.year, pub.ck(4), pub.c10, pub.total_citations, pub.disruption_index)\n",
    "    print(\"references: {0} | citations: {1}\".format(pub.references, pub.citations))\n",
    "    print(pub.cocited_publications)\n",
    "    print(pub.yearly_cnorm)\n",
    "    print()"
   ]
  },
  {
   "cell_type": "code",
   "execution_count": 8,
   "metadata": {},
   "outputs": [
    {
     "name": "stdout",
     "output_type": "stream",
     "text": [
      "2000 2008\n",
      "9 7 0.7777777777777778\n",
      "Total citations: 33, H-index: 4\n",
      "\n",
      "2002 2009\n",
      "8 6 0.75\n",
      "Total citations: 18, H-index: 3\n",
      "\n",
      "2000 2009\n",
      "10 7 0.7\n",
      "Total citations: 39, H-index: 5\n",
      "\n",
      "{2000: 0.0, 2001: 1.0, 2002: 3.0, 2003: 6.0, 2004: 10.0, 2005: 15.0, 2006: 21.0, 2007: 27.0, 2008: 33.0, 2009: 39.0}\n",
      "[[2000, 9], [2001, 8], [2002, 7], [2003, 6], [2004, 5], [2005, 4], [2009, 0]]\n"
     ]
    }
   ],
   "source": [
    "for aid in range(Nauthors):\n",
    "    author = database.get_author(aid)\n",
    "    print(author.start_year, author.end_year)\n",
    "    print(author.career_length, author.total_productivity, author.annual_productivity)\n",
    "    print(\"Total citations: {0}, H-index: {1}\".format(author.total_citations, author.hindex))\n",
    "    print()\n",
    "print(author.cummulative_yearly_citations)\n",
    "print(author.author_timeline)"
   ]
  },
  {
   "cell_type": "code",
   "execution_count": 2,
   "metadata": {},
   "outputs": [
    {
     "ename": "FileNotFoundError",
     "evalue": "[Errno 2] No such file or directory: 'mag/Affiliations.txt'",
     "output_type": "error",
     "traceback": [
      "\u001b[0;31m---------------------------------------------------------------------------\u001b[0m",
      "\u001b[0;31mFileNotFoundError\u001b[0m                         Traceback (most recent call last)",
      "\u001b[0;32m<ipython-input-2-944015a5ea28>\u001b[0m in \u001b[0;36m<module>\u001b[0;34m()\u001b[0m\n\u001b[1;32m      1\u001b[0m \u001b[0mMAG\u001b[0m \u001b[0;34m=\u001b[0m \u001b[0mpyscisci\u001b[0m\u001b[0;34m.\u001b[0m\u001b[0mBibDatabase\u001b[0m\u001b[0;34m(\u001b[0m\u001b[0mname\u001b[0m \u001b[0;34m=\u001b[0m \u001b[0;34m'mag2020'\u001b[0m\u001b[0;34m)\u001b[0m\u001b[0;34m\u001b[0m\u001b[0;34m\u001b[0m\u001b[0m\n\u001b[1;32m      2\u001b[0m \u001b[0;34m\u001b[0m\u001b[0m\n\u001b[0;32m----> 3\u001b[0;31m \u001b[0mpyscisci\u001b[0m\u001b[0;34m.\u001b[0m\u001b[0mdataset_interface\u001b[0m\u001b[0;34m.\u001b[0m\u001b[0mmag_interface\u001b[0m\u001b[0;34m.\u001b[0m\u001b[0mload_mag\u001b[0m\u001b[0;34m(\u001b[0m\u001b[0mMAG\u001b[0m\u001b[0;34m,\u001b[0m \u001b[0mpath2files\u001b[0m \u001b[0;34m=\u001b[0m \u001b[0;34m''\u001b[0m\u001b[0;34m)\u001b[0m\u001b[0;34m\u001b[0m\u001b[0;34m\u001b[0m\u001b[0m\n\u001b[0m",
      "\u001b[0;32m~/Documents/GitHub/pyscisci/pyscisci/dataset_interface/mag_interface.py\u001b[0m in \u001b[0;36mload_mag\u001b[0;34m(database, path2files, filename_dict, files2load, author_subset, publication_subset, full_info, keep_affiliation)\u001b[0m\n\u001b[1;32m    174\u001b[0m \u001b[0;34m\u001b[0m\u001b[0m\n\u001b[1;32m    175\u001b[0m     \u001b[0;32mif\u001b[0m \u001b[0;34m'affiliations'\u001b[0m \u001b[0;32min\u001b[0m \u001b[0mfiles2load\u001b[0m\u001b[0;34m:\u001b[0m\u001b[0;34m\u001b[0m\u001b[0;34m\u001b[0m\u001b[0m\n\u001b[0;32m--> 176\u001b[0;31m         \u001b[0mload_mag_affiliations\u001b[0m\u001b[0;34m(\u001b[0m\u001b[0mdatabase\u001b[0m\u001b[0;34m,\u001b[0m \u001b[0mpath2files\u001b[0m\u001b[0;34m,\u001b[0m \u001b[0mfilenames\u001b[0m\u001b[0;34m)\u001b[0m\u001b[0;34m\u001b[0m\u001b[0;34m\u001b[0m\u001b[0m\n\u001b[0m\u001b[1;32m    177\u001b[0m \u001b[0;34m\u001b[0m\u001b[0m\n\u001b[1;32m    178\u001b[0m     \u001b[0;32mif\u001b[0m \u001b[0;34m'authors'\u001b[0m \u001b[0;32min\u001b[0m \u001b[0mfiles2load\u001b[0m\u001b[0;34m:\u001b[0m\u001b[0;34m\u001b[0m\u001b[0;34m\u001b[0m\u001b[0m\n",
      "\u001b[0;32m~/Documents/GitHub/pyscisci/pyscisci/dataset_interface/mag_interface.py\u001b[0m in \u001b[0;36mload_mag_affiliations\u001b[0;34m(database, path2files, filename_dict)\u001b[0m\n\u001b[1;32m     61\u001b[0m \u001b[0;32mdef\u001b[0m \u001b[0mload_mag_affiliations\u001b[0m\u001b[0;34m(\u001b[0m\u001b[0mdatabase\u001b[0m\u001b[0;34m,\u001b[0m \u001b[0mpath2files\u001b[0m \u001b[0;34m=\u001b[0m \u001b[0;34m''\u001b[0m\u001b[0;34m,\u001b[0m \u001b[0mfilename_dict\u001b[0m \u001b[0;34m=\u001b[0m \u001b[0;32mNone\u001b[0m\u001b[0;34m)\u001b[0m\u001b[0;34m:\u001b[0m\u001b[0;34m\u001b[0m\u001b[0;34m\u001b[0m\u001b[0m\n\u001b[1;32m     62\u001b[0m     \u001b[0maffiliation_idx\u001b[0m \u001b[0;34m=\u001b[0m \u001b[0;34m{\u001b[0m\u001b[0mdn\u001b[0m\u001b[0;34m:\u001b[0m\u001b[0mfilename_dict\u001b[0m\u001b[0;34m[\u001b[0m\u001b[0;34m'affiliations'\u001b[0m\u001b[0;34m]\u001b[0m\u001b[0;34m[\u001b[0m\u001b[0;36m1\u001b[0m\u001b[0;34m]\u001b[0m\u001b[0;34m.\u001b[0m\u001b[0mindex\u001b[0m\u001b[0;34m(\u001b[0m\u001b[0mdn\u001b[0m\u001b[0;34m)\u001b[0m \u001b[0;32mfor\u001b[0m \u001b[0mdn\u001b[0m \u001b[0;32min\u001b[0m \u001b[0;34m[\u001b[0m\u001b[0;34m'AffiliationId'\u001b[0m\u001b[0;34m,\u001b[0m \u001b[0;34m'NormalizedName'\u001b[0m\u001b[0;34m,\u001b[0m \u001b[0;34m'GridId'\u001b[0m\u001b[0;34m,\u001b[0m \u001b[0;34m'OfficialPage'\u001b[0m\u001b[0;34m,\u001b[0m \u001b[0;34m'WikiPage'\u001b[0m\u001b[0;34m,\u001b[0m \u001b[0;34m'Latitude'\u001b[0m\u001b[0;34m,\u001b[0m \u001b[0;34m'Longitude'\u001b[0m\u001b[0;34m]\u001b[0m\u001b[0;34m}\u001b[0m\u001b[0;34m\u001b[0m\u001b[0;34m\u001b[0m\u001b[0m\n\u001b[0;32m---> 63\u001b[0;31m     \u001b[0;32mwith\u001b[0m \u001b[0mopen\u001b[0m\u001b[0;34m(\u001b[0m\u001b[0mos\u001b[0m\u001b[0;34m.\u001b[0m\u001b[0mpath\u001b[0m\u001b[0;34m.\u001b[0m\u001b[0mjoin\u001b[0m\u001b[0;34m(\u001b[0m\u001b[0mpath2files\u001b[0m\u001b[0;34m,\u001b[0m \u001b[0mfilename_dict\u001b[0m\u001b[0;34m[\u001b[0m\u001b[0;34m'affiliations'\u001b[0m\u001b[0;34m]\u001b[0m\u001b[0;34m[\u001b[0m\u001b[0;36m0\u001b[0m\u001b[0;34m]\u001b[0m\u001b[0;34m)\u001b[0m\u001b[0;34m,\u001b[0m \u001b[0;34m'r'\u001b[0m\u001b[0;34m)\u001b[0m \u001b[0;32mas\u001b[0m \u001b[0mpubreffile\u001b[0m\u001b[0;34m:\u001b[0m\u001b[0;34m\u001b[0m\u001b[0;34m\u001b[0m\u001b[0m\n\u001b[0m\u001b[1;32m     64\u001b[0m         \u001b[0;32mfor\u001b[0m \u001b[0mline\u001b[0m \u001b[0;32min\u001b[0m \u001b[0mpubreffile\u001b[0m\u001b[0;34m:\u001b[0m\u001b[0;34m\u001b[0m\u001b[0;34m\u001b[0m\u001b[0m\n\u001b[1;32m     65\u001b[0m             \u001b[0msline\u001b[0m \u001b[0;34m=\u001b[0m \u001b[0mline\u001b[0m\u001b[0;34m.\u001b[0m\u001b[0mreplace\u001b[0m\u001b[0;34m(\u001b[0m\u001b[0;34m'\\n'\u001b[0m\u001b[0;34m,\u001b[0m \u001b[0;34m''\u001b[0m\u001b[0;34m)\u001b[0m\u001b[0;34m.\u001b[0m\u001b[0msplit\u001b[0m\u001b[0;34m(\u001b[0m\u001b[0;34m'\\t'\u001b[0m\u001b[0;34m)\u001b[0m\u001b[0;34m\u001b[0m\u001b[0;34m\u001b[0m\u001b[0m\n",
      "\u001b[0;31mFileNotFoundError\u001b[0m: [Errno 2] No such file or directory: 'mag/Affiliations.txt'"
     ]
    }
   ],
   "source": [
    "MAG = pyscisci.BibDatabase(name = 'mag2020')\n",
    "\n",
    "pyscisci.dataset_interface.mag_interface.load_mag(MAG, path2files = '')"
   ]
  },
  {
   "cell_type": "code",
   "execution_count": null,
   "metadata": {},
   "outputs": [],
   "source": []
  }
 ],
 "metadata": {
  "kernelspec": {
   "display_name": "Python 3",
   "language": "python",
   "name": "python3"
  },
  "language_info": {
   "codemirror_mode": {
    "name": "ipython",
    "version": 3
   },
   "file_extension": ".py",
   "mimetype": "text/x-python",
   "name": "python",
   "nbconvert_exporter": "python",
   "pygments_lexer": "ipython3",
   "version": "3.7.7"
  }
 },
 "nbformat": 4,
 "nbformat_minor": 2
}
